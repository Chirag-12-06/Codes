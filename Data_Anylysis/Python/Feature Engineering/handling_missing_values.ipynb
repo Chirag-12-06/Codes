{
 "cells": [
  {
   "cell_type": "code",
   "execution_count": null,
   "id": "3f96ee25",
   "metadata": {},
   "outputs": [],
   "source": [
    "import seaborn as sns"
   ]
  },
  {
   "cell_type": "code",
   "execution_count": null,
   "id": "50b9d6cc",
   "metadata": {},
   "outputs": [],
   "source": [
    "sns.get_dataset_names()  # This will print available datasets"
   ]
  }
 ],
 "metadata": {
  "kernelspec": {
   "display_name": "myenv (3.12.7)",
   "language": "python",
   "name": "python3"
  },
  "language_info": {
   "name": "python",
   "version": "3.12.7"
  }
 },
 "nbformat": 4,
 "nbformat_minor": 5
}
