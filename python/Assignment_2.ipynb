{
 "cells": [
  {
   "cell_type": "code",
   "execution_count": 1,
   "metadata": {},
   "outputs": [
    {
     "data": {
      "text/plain": [
       "True"
      ]
     },
     "execution_count": 1,
     "metadata": {},
     "output_type": "execute_result"
    }
   ],
   "source": [
    "# Write a program for the 8 puzzle problem by taking the following initial and final states\n",
    "import copy\n",
    "\n",
    "def up(matrix,curr):\n",
    "    x,y = curr\n",
    "    if x > 0:\n",
    "        new_matrix = copy.deepcopy(matrix)\n",
    "        new_matrix[x][y],new_matrix[x-1][y] = new_matrix[x-1][y],new_matrix[x][y]\n",
    "        return new_matrix\n",
    "    return None\n",
    "\n",
    "def left(matrix,curr):\n",
    "    x,y = curr\n",
    "    if y > 0:\n",
    "        new_matrix = copy.deepcopy(matrix)\n",
    "        new_matrix[x][y],new_matrix[x][y-1] = new_matrix[x][y-1],new_matrix[x][y]\n",
    "        return new_matrix\n",
    "    return None\n",
    "\n",
    "def down(matrix,curr):\n",
    "    x,y = curr\n",
    "    if x < len(matrix)-1:\n",
    "        new_matrix = copy.deepcopy(matrix)\n",
    "        new_matrix[x][y],new_matrix[x+1][y] = new_matrix[x+1][y],new_matrix[x][y]\n",
    "        return new_matrix\n",
    "    return None\n",
    "\n",
    "def right(matrix,curr):\n",
    "    x,y = curr\n",
    "    if y < len(matrix[0])-1:\n",
    "        new_matrix = copy.deepcopy(matrix)\n",
    "        new_matrix[x][y],new_matrix[x][y+1] = new_matrix[x][y+1],new_matrix[x][y]\n",
    "        return new_matrix\n",
    "    return None\n",
    "\n",
    "def is_same_states(s,g):\n",
    "    return s==g\n",
    "\n",
    "def find_pos(matrix):\n",
    "    for i in range(len(matrix)):\n",
    "        for j in range(len(matrix[i])):\n",
    "            if matrix[i][j]==0:\n",
    "                return [i,j]\n",
    "                break\n",
    "\n",
    "def solve(initial,final):\n",
    "    if(is_same_states(initial,final)):\n",
    "        return True\n",
    "\n",
    "    visit=[]\n",
    "    q=[]\n",
    "    visit.append(initial)\n",
    "    q.append(initial)\n",
    "\n",
    "    while(q):\n",
    "        current=q.pop(0)\n",
    "        curr=find_pos(current)\n",
    "\n",
    "        child=[up(current,curr),down(current,curr),right(current,curr),left(current,curr)]\n",
    "\n",
    "        for state in child:\n",
    "            if state and not any(is_same_states(prev,state) for prev in visit):\n",
    "                if is_same_states(state,final):\n",
    "                    return True\n",
    "                visit.append(state)\n",
    "                q.append(state)\n",
    "    return False\n",
    "    \n",
    "\n",
    "initial=[[1,2,3],[8,0,4],[7,6,5]]\n",
    "final=[[2,8,1],[0,4,3],[7,6,5]]\n",
    "\n",
    "solve(initial,final)"
   ]
  },
  {
   "cell_type": "code",
   "execution_count": 2,
   "metadata": {},
   "outputs": [
    {
     "name": "stdout",
     "output_type": "stream",
     "text": [
      "0 0\n",
      "4 0\n",
      "4 3\n",
      "0 3\n",
      "3 0\n",
      "3 3\n",
      "4 2\n",
      "0 2\n"
     ]
    },
    {
     "data": {
      "text/plain": [
       "True"
      ]
     },
     "execution_count": 2,
     "metadata": {},
     "output_type": "execute_result"
    }
   ],
   "source": [
    "# Given two jugs- a 4 liter and 3 liter capacity. Neither has any measurable markers on it. \n",
    "# There is a pump which can be used to fill the jugs with water.\n",
    "# Simulate the procedure in Python to get exactly 2 liter of water into 4-liter jug\n",
    "visited = []\n",
    "jug1=4\n",
    "jug2=3\n",
    "target=2\n",
    "\n",
    "def Water(amt1,amt2):\n",
    "    if(amt1 == target and amt2 == 0) or (amt2 == target and amt1 == 0):\n",
    "        print(amt1,amt2)\n",
    "        return True\n",
    "\n",
    "    if (amt1,amt2) in visited:\n",
    "        return False\n",
    "\n",
    "    visited.append((amt1,amt2))\n",
    "    print(amt1,amt2)\n",
    "\n",
    "    return (Water(amt1,0) or\n",
    "           Water(0,amt2) or\n",
    "           Water(jug1,amt2) or\n",
    "           Water(amt1,jug2) or\n",
    "           Water(amt1 - min(amt1,jug2-amt2),amt2 + min(amt1,jug2-amt2)) or\n",
    "           Water(amt1 + min(amt2,jug1-amt1),amt2 - min(amt2,jug1-amt1)))\n",
    "\n",
    "Water(0,0)"
   ]
  },
  {
   "cell_type": "code",
   "execution_count": 2,
   "metadata": {},
   "outputs": [
    {
     "name": "stdout",
     "output_type": "stream",
     "text": [
      "[1, 2, 4, 3, 1]\n",
      "80\n"
     ]
    }
   ],
   "source": [
    "# Write a Python program to implement Travelling Salesman Problem (TSP). Take the starting node from the user at run time. \n",
    "graph=[[0,10,15,20],[10,0,35,25],[15,35,0,30],[20,25,30,0]]\n",
    "no_of_cities=len(graph) \n",
    "best_path=[]\n",
    "min_cost=float('inf')\n",
    "\n",
    "\n",
    "def tsp(scity,curr_city,path,visited,cost):\n",
    "    global min_cost,best_path\n",
    "        \n",
    "    if len(path)==no_of_cities:\n",
    "        tcost=cost+graph[curr_city][scity]\n",
    "        if tcost<min_cost:\n",
    "           min_cost=tcost\n",
    "           best_path=path[:]+[scity+1]\n",
    "        return\n",
    "\n",
    "    for next_city in range(no_of_cities):\n",
    "        if next_city not in visited:\n",
    "            path.append(next_city+1)\n",
    "            visited.append(next_city)\n",
    "            tsp(scity,next_city,path,visited,cost+graph[curr_city][next_city])\n",
    "            visited.pop()\n",
    "            path.pop()\n",
    "\n",
    "node=int(input(\"Enter The Starting Node: \"))\n",
    "tsp(node-1,node-1,[node],[node-1],0)\n",
    "print(best_path)\n",
    "print(min_cost)"
   ]
  }
 ],
 "metadata": {
  "kernelspec": {
   "display_name": "Python 3",
   "language": "python",
   "name": "python3"
  },
  "language_info": {
   "codemirror_mode": {
    "name": "ipython",
    "version": 3
   },
   "file_extension": ".py",
   "mimetype": "text/x-python",
   "name": "python",
   "nbconvert_exporter": "python",
   "pygments_lexer": "ipython3",
   "version": "3.13.1"
  }
 },
 "nbformat": 4,
 "nbformat_minor": 2
}
