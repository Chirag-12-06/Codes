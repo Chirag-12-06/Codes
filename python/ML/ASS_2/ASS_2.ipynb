{
 "cells": [
  {
   "cell_type": "markdown",
   "id": "c7accb76",
   "metadata": {},
   "source": [
    "# Part I: Based on Feature Selection, Cleaning, and Preprocessing to Construct an Input from Data Source"
   ]
  },
  {
   "cell_type": "markdown",
   "id": "2ba3643f",
   "metadata": {},
   "source": [
    "## (a) Examine the values of each attribute and Select a set of attributes only that would affect to predict future bike buyers to create your input for data mining algorithms. Remove all the unnecessary attributes. (Select features just by analysis). "
   ]
  },
  {
   "cell_type": "code",
   "execution_count": null,
   "id": "74c242cd",
   "metadata": {
    "vscode": {
     "languageId": "plaintext"
    }
   },
   "outputs": [],
   "source": []
  }
 ],
 "metadata": {
  "language_info": {
   "name": "python"
  }
 },
 "nbformat": 4,
 "nbformat_minor": 5
}
