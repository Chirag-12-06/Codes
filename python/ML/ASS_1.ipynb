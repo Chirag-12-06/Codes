{
 "cells": [
  {
   "cell_type": "code",
   "execution_count": 1,
   "id": "aa9aefa2",
   "metadata": {},
   "outputs": [],
   "source": [
    "import numpy as np"
   ]
  },
  {
   "cell_type": "markdown",
   "id": "a7978faa",
   "metadata": {},
   "source": [
    "# Q1: Questions on Basic NumPy Array"
   ]
  },
  {
   "cell_type": "markdown",
   "id": "97e548d2",
   "metadata": {},
   "source": [
    "## (a) Reverse the NumPy array"
   ]
  },
  {
   "cell_type": "code",
   "execution_count": 2,
   "id": "eaf23da6",
   "metadata": {},
   "outputs": [
    {
     "data": {
      "text/plain": [
       "array([5, 4, 6, 3, 2, 1])"
      ]
     },
     "execution_count": 2,
     "metadata": {},
     "output_type": "execute_result"
    }
   ],
   "source": [
    "arr = np.array([1, 2, 3, 6, 4, 5])\n",
    "arr = np.flip(arr)\n",
    "arr"
   ]
  },
  {
   "cell_type": "markdown",
   "id": "692a0984",
   "metadata": {},
   "source": [
    "## (b) Flatten the array"
   ]
  },
  {
   "cell_type": "code",
   "execution_count": 3,
   "id": "50c9e66f",
   "metadata": {},
   "outputs": [
    {
     "data": {
      "text/plain": [
       "array([1, 2, 3, 2, 4, 5, 1, 2, 3])"
      ]
     },
     "execution_count": 3,
     "metadata": {},
     "output_type": "execute_result"
    }
   ],
   "source": [
    "array1 = np.array([[1, 2, 3], [2, 4, 5], [1, 2, 3]])\n",
    "array1.flatten()\n",
    "## shares no memory"
   ]
  },
  {
   "cell_type": "code",
   "execution_count": 4,
   "id": "346a788b",
   "metadata": {},
   "outputs": [
    {
     "data": {
      "text/plain": [
       "array([1, 2, 3, 2, 4, 5, 1, 2, 3])"
      ]
     },
     "execution_count": 4,
     "metadata": {},
     "output_type": "execute_result"
    }
   ],
   "source": [
    "array1 = np.array([[1, 2, 3], [2, 4, 5], [1, 2, 3]])\n",
    "array1 = np.ravel(array1)\n",
    "array1\n",
    "##  shares memory "
   ]
  },
  {
   "cell_type": "code",
   "execution_count": 5,
   "id": "92c0b32b",
   "metadata": {},
   "outputs": [
    {
     "data": {
      "text/plain": [
       "array([[1, 2, 3, 2, 4, 5, 1, 2, 3]])"
      ]
     },
     "execution_count": 5,
     "metadata": {},
     "output_type": "execute_result"
    }
   ],
   "source": [
    "array1 = np.array([[1, 2, 3], [2, 4, 5], [1, 2, 3]])\n",
    "array1=array1.reshape(1,9)\n",
    "array1\n",
    "## can control shape"
   ]
  },
  {
   "cell_type": "markdown",
   "id": "aa6f257a",
   "metadata": {},
   "source": [
    "## (c) Compare the following numpy arrays"
   ]
  },
  {
   "cell_type": "code",
   "execution_count": 6,
   "id": "d32ca1c5",
   "metadata": {},
   "outputs": [
    {
     "data": {
      "text/plain": [
       "array([[ True,  True],\n",
       "       [ True,  True]])"
      ]
     },
     "execution_count": 6,
     "metadata": {},
     "output_type": "execute_result"
    }
   ],
   "source": [
    "arr1 = np.array([[1, 2], [3, 4]]) \n",
    "arr2 = np.array([[1, 2], [3, 4]]) \n",
    "arr1 == arr2"
   ]
  },
  {
   "cell_type": "markdown",
   "id": "706d80fe",
   "metadata": {},
   "source": [
    "## (d) Find the most frequent value and their indice(s) in the following arrays: \n"
   ]
  },
  {
   "cell_type": "code",
   "execution_count": 7,
   "id": "2428e731",
   "metadata": {},
   "outputs": [
    {
     "name": "stdout",
     "output_type": "stream",
     "text": [
      "[[0]\n",
      " [5]\n",
      " [7]\n",
      " [8]\n",
      " [9]]\n"
     ]
    }
   ],
   "source": [
    "x = np.array([1,2,3,4,5,1,2,1,1,1])\n",
    "unique,counts =np.unique(x, return_counts=True)\n",
    "most_freq_idx=np.argmax(counts)                                             ## index of most frequent element\n",
    "most_freq_val=unique[most_freq_idx]                                         ## most frequent value\n",
    "most_freq_vals_idx=np.argwhere(x == most_freq_val)                          ## indices of most frequent value\n",
    "print(most_freq_vals_idx)                                                   ## print indices of most frequent value"
   ]
  },
  {
   "cell_type": "code",
   "execution_count": 16,
   "id": "1d747fd2",
   "metadata": {},
   "outputs": [
    {
     "name": "stdout",
     "output_type": "stream",
     "text": [
      "[3 2 3 2]\n",
      "[1 3]\n"
     ]
    }
   ],
   "source": [
    "y = np.array([1, 1, 1, 2, 3, 4, 2, 4, 3, 3])\n",
    "unique,counts=np.unique(y,return_counts=True)\n",
    "print(counts)\n",
    "max_count=np.max(counts)                    ## Find the maximum count\n",
    "most_freq_vals=unique[counts==max_count]    ## All most frequent values\n",
    "print(most_freq_vals)"
   ]
  },
  {
   "cell_type": "markdown",
   "id": "5d3792d8",
   "metadata": {},
   "source": [
    "## (e) For the array, find \n"
   ]
  },
  {
   "cell_type": "markdown",
   "id": "afd6e618",
   "metadata": {},
   "source": [
    "### i. Sum of all elements "
   ]
  },
  {
   "cell_type": "code",
   "execution_count": 25,
   "id": "5c0806d5",
   "metadata": {},
   "outputs": [
    {
     "name": "stdout",
     "output_type": "stream",
     "text": [
      "45\n"
     ]
    }
   ],
   "source": [
    "gfg = np.matrix([[4, 1, 9], [12, 3, 1], [4, 5, 6]])\n",
    "print(gfg.sum())"
   ]
  },
  {
   "cell_type": "markdown",
   "id": "01c80670",
   "metadata": {},
   "source": [
    "### ii. Sum of all elements row-wise"
   ]
  },
  {
   "cell_type": "code",
   "execution_count": 24,
   "id": "4a454ec8",
   "metadata": {},
   "outputs": [
    {
     "name": "stdout",
     "output_type": "stream",
     "text": [
      "[[14]\n",
      " [16]\n",
      " [15]]\n"
     ]
    }
   ],
   "source": [
    "gfg = np.matrix([[4, 1, 9], [12, 3, 1], [4, 5, 6]])\n",
    "print(gfg.sum(axis=1))"
   ]
  },
  {
   "cell_type": "markdown",
   "id": "77e65d67",
   "metadata": {},
   "source": [
    "### iii. Sum of all elements column-wise"
   ]
  },
  {
   "cell_type": "code",
   "execution_count": 23,
   "id": "2a9198e5",
   "metadata": {},
   "outputs": [
    {
     "name": "stdout",
     "output_type": "stream",
     "text": [
      "[[20  9 16]]\n"
     ]
    }
   ],
   "source": [
    "gfg = np.matrix([[4, 1, 9], [12, 3, 1], [4, 5, 6]])\n",
    "print(gfg.sum(axis=0))"
   ]
  },
  {
   "cell_type": "markdown",
   "id": "e99c9627",
   "metadata": {},
   "source": [
    "##  (f) For the matrix: n_array, find "
   ]
  },
  {
   "cell_type": "markdown",
   "id": "0cc8d3c5",
   "metadata": {},
   "source": [
    "### i. Sum of diagonal elements "
   ]
  },
  {
   "cell_type": "code",
   "execution_count": 28,
   "id": "31a57c7f",
   "metadata": {},
   "outputs": [
    {
     "name": "stdout",
     "output_type": "stream",
     "text": [
      "176\n",
      "[55 44 77]\n"
     ]
    }
   ],
   "source": [
    "n_array = np.array([[55, 25, 15],[30, 44, 2],[11, 45, 77]])\n",
    "print(n_array.trace())\n",
    "print(n_array.diagonal())"
   ]
  },
  {
   "cell_type": "markdown",
   "id": "0f37dd1e",
   "metadata": {},
   "source": [
    "### ii. Eigen values of matrix "
   ]
  },
  {
   "cell_type": "code",
   "execution_count": null,
   "id": "c65aad57",
   "metadata": {},
   "outputs": [
    {
     "name": "stdout",
     "output_type": "stream",
     "text": [
      "[98.16835147 28.097044   49.73460452]\n"
     ]
    }
   ],
   "source": [
    "n_array = np.array([[55, 25, 15],[30, 44, 2],[11, 45, 77]])\n",
    "print(np.linalg.eigvals(n_array))"
   ]
  },
  {
   "cell_type": "markdown",
   "id": "21e199a5",
   "metadata": {},
   "source": [
    "### iii. Eigen vectors of matrix "
   ]
  },
  {
   "cell_type": "code",
   "execution_count": 36,
   "id": "d21624a6",
   "metadata": {},
   "outputs": [
    {
     "name": "stdout",
     "output_type": "stream",
     "text": [
      "[[ 0.4574917   0.34637121 -0.15017693]\n",
      " [ 0.28447814 -0.72784061 -0.4852124 ]\n",
      " [ 0.84248058  0.59184038  0.8614034 ]]\n"
     ]
    }
   ],
   "source": [
    "n_array = np.array([[55, 25, 15],[30, 44, 2],[11, 45, 77]])\n",
    "evector=np.linalg.eig(n_array)\n",
    "print(evector[1])"
   ]
  },
  {
   "cell_type": "markdown",
   "id": "35e67617",
   "metadata": {},
   "source": [
    "### iv. Inverse of matrix "
   ]
  },
  {
   "cell_type": "code",
   "execution_count": 37,
   "id": "4f4f22e6",
   "metadata": {},
   "outputs": [
    {
     "name": "stdout",
     "output_type": "stream",
     "text": [
      "[[ 0.02404141 -0.00911212 -0.00444671]\n",
      " [-0.01667882  0.02966905  0.0024785 ]\n",
      " [ 0.00631287 -0.01603732  0.01217379]]\n"
     ]
    }
   ],
   "source": [
    "n_array = np.array([[55, 25, 15],[30, 44, 2],[11, 45, 77]])\n",
    "inv=np.linalg.inv(n_array)\n",
    "print(inv)"
   ]
  },
  {
   "cell_type": "markdown",
   "id": "831da396",
   "metadata": {},
   "source": [
    "### v. Determinant of matrix "
   ]
  },
  {
   "cell_type": "code",
   "execution_count": 38,
   "id": "072e8dba",
   "metadata": {},
   "outputs": [
    {
     "name": "stdout",
     "output_type": "stream",
     "text": [
      "137180.0000000001\n"
     ]
    }
   ],
   "source": [
    "n_array = np.array([[55, 25, 15],[30, 44, 2],[11, 45, 77]])\n",
    "det=np.linalg.det(n_array)\n",
    "print(det)"
   ]
  },
  {
   "cell_type": "markdown",
   "id": "01f4672b",
   "metadata": {},
   "source": [
    "## (g) Multiply the following matrices and also find covariance between matrices using NumPy:"
   ]
  },
  {
   "cell_type": "markdown",
   "id": "518f3455",
   "metadata": {},
   "source": [
    "### i)"
   ]
  },
  {
   "cell_type": "code",
   "execution_count": 44,
   "id": "d6d3e67f",
   "metadata": {},
   "outputs": [
    {
     "data": {
      "text/plain": [
       "array([[0.5, 0.5, 0.5, 0.5],\n",
       "       [0.5, 0.5, 0.5, 0.5],\n",
       "       [0.5, 0.5, 0.5, 0.5],\n",
       "       [0.5, 0.5, 0.5, 0.5]])"
      ]
     },
     "execution_count": 44,
     "metadata": {},
     "output_type": "execute_result"
    }
   ],
   "source": [
    "p = [[1, 2], [2, 3]] \n",
    "q = [[4, 5], [6, 7]] \n",
    "np.matmul(p,q)\n",
    "np.cov(p,q)"
   ]
  },
  {
   "cell_type": "markdown",
   "id": "f8b0d0cb",
   "metadata": {},
   "source": [
    "### ii)"
   ]
  },
  {
   "cell_type": "code",
   "execution_count": 55,
   "id": "a7a40e8d",
   "metadata": {},
   "outputs": [
    {
     "data": {
      "text/plain": [
       "array([[16, 19,  5],\n",
       "       [26, 31,  8],\n",
       "       [46, 55, 14]])"
      ]
     },
     "execution_count": 55,
     "metadata": {},
     "output_type": "execute_result"
    }
   ],
   "source": [
    "p = [[1, 2], [2, 3], [4, 5]] \n",
    "q = [[4, 5, 1], [6, 7, 2]]\n",
    "np.matmul(p,q)"
   ]
  },
  {
   "cell_type": "markdown",
   "id": "1288e60b",
   "metadata": {},
   "source": [
    "## (h) For the matrices: find inner, outer and cartesian product? "
   ]
  },
  {
   "cell_type": "code",
   "execution_count": 65,
   "id": "b2da9d3c",
   "metadata": {},
   "outputs": [
    {
     "name": "stdout",
     "output_type": "stream",
     "text": [
      "[[17 52]\n",
      " [13 62]]\n",
      "[[ 2 10  0 10 20  6]\n",
      " [ 3 15  0 15 30  9]\n",
      " [ 4 20  0 20 40 12]\n",
      " [ 3 15  0 15 30  9]\n",
      " [ 2 10  0 10 20  6]\n",
      " [ 9 45  0 45 90 27]]\n",
      "[[ 2  1]\n",
      " [ 2  5]\n",
      " [ 2  0]\n",
      " [ 2  5]\n",
      " [ 2 10]\n",
      " [ 2  3]\n",
      " [ 3  1]\n",
      " [ 3  5]\n",
      " [ 3  0]\n",
      " [ 3  5]\n",
      " [ 3 10]\n",
      " [ 3  3]\n",
      " [ 4  1]\n",
      " [ 4  5]\n",
      " [ 4  0]\n",
      " [ 4  5]\n",
      " [ 4 10]\n",
      " [ 4  3]\n",
      " [ 3  1]\n",
      " [ 3  5]\n",
      " [ 3  0]\n",
      " [ 3  5]\n",
      " [ 3 10]\n",
      " [ 3  3]\n",
      " [ 2  1]\n",
      " [ 2  5]\n",
      " [ 2  0]\n",
      " [ 2  5]\n",
      " [ 2 10]\n",
      " [ 2  3]\n",
      " [ 9  1]\n",
      " [ 9  5]\n",
      " [ 9  0]\n",
      " [ 9  5]\n",
      " [ 9 10]\n",
      " [ 9  3]]\n"
     ]
    }
   ],
   "source": [
    "x = np.array([[2, 3, 4], [3, 2, 9]])\n",
    "y = np.array([[1, 5, 0], [5, 10, 3]])\n",
    "\n",
    "# Inner Product\n",
    "print(np.inner(x,y))\n",
    "\n",
    "# Outer Product\n",
    "print(np.outer(x,y))\n",
    "\n",
    "# Cartesian Product\n",
    "print(np.array(np.meshgrid(x,y)).T.reshape(-1,2))"
   ]
  },
  {
   "cell_type": "markdown",
   "id": "7ab42108",
   "metadata": {},
   "source": [
    "# Q2: Based on NumPy Mathematics and Statistics"
   ]
  },
  {
   "cell_type": "markdown",
   "id": "7eb916f2",
   "metadata": {},
   "source": [
    "## (a) For the array"
   ]
  },
  {
   "cell_type": "markdown",
   "id": "61c6e91c",
   "metadata": {},
   "source": [
    "### i. Find element-wise absolute value "
   ]
  },
  {
   "cell_type": "code",
   "execution_count": 67,
   "id": "b71a026f",
   "metadata": {},
   "outputs": [
    {
     "name": "stdout",
     "output_type": "stream",
     "text": [
      "[[1 2 3]\n",
      " [4 5 6]]\n",
      "[[1 2 3]\n",
      " [4 5 6]]\n"
     ]
    }
   ],
   "source": [
    "arr = np.array([[1, -2, 3],[-4, 5, -6]])\n",
    "print(arr.__abs__()) \n",
    "print(np.abs(arr)) "
   ]
  },
  {
   "cell_type": "markdown",
   "id": "ab8f7582",
   "metadata": {},
   "source": [
    "### ii. Find the 25th, 50th, and 75th percentile of flattened array, for each column, for each row. "
   ]
  },
  {
   "cell_type": "code",
   "execution_count": 68,
   "id": "90b59e77",
   "metadata": {},
   "outputs": [
    {
     "name": "stdout",
     "output_type": "stream",
     "text": [
      "[-3.5 -0.5  2.5]\n"
     ]
    }
   ],
   "source": [
    "arr = np.array([[1, -2, 3],[-4, 5, -6]])\n",
    "arr=arr.flatten()\n",
    "print(np.percentile(arr,[25,50,75]))"
   ]
  },
  {
   "cell_type": "markdown",
   "id": "8fa3d252",
   "metadata": {},
   "source": [
    "### iii. Mean, Median and Standard Deviation of flattened array, of each column, and each row "
   ]
  },
  {
   "cell_type": "code",
   "execution_count": 73,
   "id": "1e940440",
   "metadata": {},
   "outputs": [
    {
     "name": "stdout",
     "output_type": "stream",
     "text": [
      "-0.5\n",
      "-0.5\n",
      "3.8622100754188224\n"
     ]
    }
   ],
   "source": [
    "arr = np.array([[1, -2, 3],[-4, 5, -6]])\n",
    "arr=arr.flatten()\n",
    "print(np.mean(arr))\n",
    "print(np.median(arr))\n",
    "print(np.std(arr))"
   ]
  },
  {
   "cell_type": "markdown",
   "id": "ef638897",
   "metadata": {},
   "source": [
    "## (b) For the array: Find floor, ceiling and truncated value, rounded values"
   ]
  },
  {
   "cell_type": "code",
   "execution_count": null,
   "id": "aabfe669",
   "metadata": {},
   "outputs": [
    {
     "name": "stdout",
     "output_type": "stream",
     "text": [
      "[-2. -2. -1.  0.  1.  1.  3.]\n",
      "[-1. -1. -0.  1.  2.  2.  3.]\n",
      "[-2. -2. -0.  0.  2.  2.  3.]\n"
     ]
    }
   ],
   "source": [
    "a = np.array([-1.8, -1.6, -0.5, 0.5, 1.6, 1.8, 3.0])\n",
    "print(np.floor(a))\n",
    "print(np.ceil(a))\n",
    "print(np.rint(a))"
   ]
  },
  {
   "cell_type": "markdown",
   "id": "e22c2c4c",
   "metadata": {},
   "source": [
    "# Q3: Based on Searching and Sorting"
   ]
  },
  {
   "cell_type": "markdown",
   "id": "a1ac2ab7",
   "metadata": {},
   "source": [
    "## (a) For the array: find "
   ]
  },
  {
   "cell_type": "markdown",
   "id": "8cb6deea",
   "metadata": {},
   "source": [
    "### i. Sorted array"
   ]
  },
  {
   "cell_type": "code",
   "execution_count": 78,
   "id": "05082c4e",
   "metadata": {},
   "outputs": [
    {
     "name": "stdout",
     "output_type": "stream",
     "text": [
      "[ 10  16  16  52  54  62 453]\n"
     ]
    }
   ],
   "source": [
    "arr = np.array([10, 52, 62, 16, 16, 54, 453])\n",
    "arr=np.sort(arr)\n",
    "print(arr)"
   ]
  },
  {
   "cell_type": "markdown",
   "id": "67726123",
   "metadata": {},
   "source": [
    "### ii. Indices of sorted array "
   ]
  },
  {
   "cell_type": "code",
   "execution_count": 82,
   "id": "ad5730b6",
   "metadata": {},
   "outputs": [
    {
     "name": "stdout",
     "output_type": "stream",
     "text": [
      "[0 3 4 1 5 2 6]\n"
     ]
    }
   ],
   "source": [
    "arr = np.array([10, 52, 62, 16, 16, 54, 453])\n",
    "arr=np.argsort(arr)\n",
    "print(arr)"
   ]
  },
  {
   "cell_type": "markdown",
   "id": "bcf4b9f3",
   "metadata": {},
   "source": [
    "### iii. 4 smallest elements "
   ]
  },
  {
   "cell_type": "code",
   "execution_count": 90,
   "id": "b95810d1",
   "metadata": {},
   "outputs": [
    {
     "name": "stdout",
     "output_type": "stream",
     "text": [
      "[10 16 16 52]\n"
     ]
    }
   ],
   "source": [
    "arr = np.array([10, 52, 62, 16, 16, 54, 453])\n",
    "smallest_4=np.partition(arr,4)[:4]\n",
    "print(smallest_4)"
   ]
  },
  {
   "cell_type": "markdown",
   "id": "d2b879c6",
   "metadata": {},
   "source": [
    "### iv. 5 largest elements "
   ]
  },
  {
   "cell_type": "code",
   "execution_count": 95,
   "id": "e17019d6",
   "metadata": {},
   "outputs": [
    {
     "name": "stdout",
     "output_type": "stream",
     "text": [
      "[ 16  52  54  62 453]\n"
     ]
    }
   ],
   "source": [
    "arr = np.array([10, 52, 62, 16, 16, 54, 453])\n",
    "largest_5=np.partition(arr,-5)[-5:]\n",
    "print(largest_5)"
   ]
  },
  {
   "cell_type": "markdown",
   "id": "5c8fdbf0",
   "metadata": {},
   "source": [
    "## (b) For the array find"
   ]
  },
  {
   "cell_type": "markdown",
   "id": "d9556f61",
   "metadata": {},
   "source": [
    "### i. Integer elements only "
   ]
  },
  {
   "cell_type": "code",
   "execution_count": 102,
   "id": "d2785de1",
   "metadata": {},
   "outputs": [
    {
     "name": "stdout",
     "output_type": "stream",
     "text": [
      "[[0]\n",
      " [3]\n",
      " [4]\n",
      " [5]]\n"
     ]
    }
   ],
   "source": [
    "arr = np.array([1.0, 1.2, 2.2, 2.0, 3.0, 2.0])\n",
    "inte=np.argwhere(arr==arr.astype(int))\n",
    "print(inte)"
   ]
  },
  {
   "cell_type": "markdown",
   "id": "d1a7c32c",
   "metadata": {},
   "source": [
    "### ii. Float elements only "
   ]
  },
  {
   "cell_type": "code",
   "execution_count": 104,
   "id": "edcaabdc",
   "metadata": {},
   "outputs": [
    {
     "name": "stdout",
     "output_type": "stream",
     "text": [
      "[[1]\n",
      " [2]]\n"
     ]
    }
   ],
   "source": [
    "arr = np.array([1.0, 1.2, 2.2, 2.0, 3.0, 2.0])\n",
    "inte=np.argwhere(arr!=arr.astype(int))\n",
    "print(inte)"
   ]
  }
 ],
 "metadata": {
  "kernelspec": {
   "display_name": ".venv (3.13.1)",
   "language": "python",
   "name": "python3"
  },
  "language_info": {
   "codemirror_mode": {
    "name": "ipython",
    "version": 3
   },
   "file_extension": ".py",
   "mimetype": "text/x-python",
   "name": "python",
   "nbconvert_exporter": "python",
   "pygments_lexer": "ipython3",
   "version": "3.13.1"
  }
 },
 "nbformat": 4,
 "nbformat_minor": 5
}
