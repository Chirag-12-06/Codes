{
 "cells": [
  {
   "cell_type": "markdown",
   "id": "a7978faa",
   "metadata": {},
   "source": [
    "## Q1: Questions on Basic NumPy Array \n"
   ]
  },
  {
   "cell_type": "markdown",
   "id": "1a9f000b",
   "metadata": {},
   "source": [
    "## (a) Reverse the NumPy array: arr = np.array([1, 2, 3, 6, 4, 5]) "
   ]
  },
  {
   "cell_type": "code",
   "execution_count": null,
   "id": "eaf23da6",
   "metadata": {},
   "outputs": [
    {
     "data": {
      "text/plain": [
       "5"
      ]
     },
     "execution_count": 2,
     "metadata": {},
     "output_type": "execute_result"
    }
   ],
   "source": [
    "np.array([1, 2, 3, 6, 4, 5])"
   ]
  },
  {
   "cell_type": "code",
   "execution_count": null,
   "id": "7e07b17a",
   "metadata": {},
   "outputs": [],
   "source": []
  }
 ],
 "metadata": {
  "kernelspec": {
   "display_name": ".venv (3.13.1)",
   "language": "python",
   "name": "python3"
  },
  "language_info": {
   "codemirror_mode": {
    "name": "ipython",
    "version": 3
   },
   "file_extension": ".py",
   "mimetype": "text/x-python",
   "name": "python",
   "nbconvert_exporter": "python",
   "pygments_lexer": "ipython3",
   "version": "3.13.1"
  }
 },
 "nbformat": 4,
 "nbformat_minor": 5
}
