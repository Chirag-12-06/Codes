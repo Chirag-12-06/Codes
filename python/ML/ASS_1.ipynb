{
 "cells": [
  {
   "cell_type": "code",
   "execution_count": 8,
   "id": "aa9aefa2",
   "metadata": {},
   "outputs": [],
   "source": [
    "import numpy as np"
   ]
  },
  {
   "cell_type": "markdown",
   "id": "a7978faa",
   "metadata": {},
   "source": [
    "# Q1: Questions on Basic NumPy Array"
   ]
  },
  {
   "cell_type": "markdown",
   "id": "97e548d2",
   "metadata": {},
   "source": [
    "# (a) Reverse the NumPy array"
   ]
  },
  {
   "cell_type": "code",
   "execution_count": 19,
   "id": "eaf23da6",
   "metadata": {},
   "outputs": [
    {
     "data": {
      "text/plain": [
       "array([5, 4, 6, 3, 2, 1])"
      ]
     },
     "execution_count": 19,
     "metadata": {},
     "output_type": "execute_result"
    }
   ],
   "source": [
    "arr = np.array([1, 2, 3, 6, 4, 5])\n",
    "arr = np.flip(arr)\n",
    "arr"
   ]
  },
  {
   "cell_type": "markdown",
   "id": "692a0984",
   "metadata": {},
   "source": [
    "# (b) Flatten the array"
   ]
  },
  {
   "cell_type": "code",
   "execution_count": null,
   "id": "50c9e66f",
   "metadata": {},
   "outputs": [
    {
     "data": {
      "text/plain": [
       "array([1, 2, 3, 2, 4, 5, 1, 2, 3])"
      ]
     },
     "execution_count": 22,
     "metadata": {},
     "output_type": "execute_result"
    }
   ],
   "source": [
    "array1 = np.array([[1, 2, 3], [2, 4, 5], [1, 2, 3]])\n",
    "array1.flatten()\n",
    "## shares no memory"
   ]
  },
  {
   "cell_type": "code",
   "execution_count": 28,
   "id": "346a788b",
   "metadata": {},
   "outputs": [
    {
     "data": {
      "text/plain": [
       "array([1, 2, 3, 2, 4, 5, 1, 2, 3])"
      ]
     },
     "execution_count": 28,
     "metadata": {},
     "output_type": "execute_result"
    }
   ],
   "source": [
    "array1 = np.array([[1, 2, 3], [2, 4, 5], [1, 2, 3]])\n",
    "array1 = np.ravel(array1)\n",
    "array1\n",
    "##  shares memory "
   ]
  },
  {
   "cell_type": "code",
   "execution_count": 31,
   "id": "92c0b32b",
   "metadata": {},
   "outputs": [
    {
     "data": {
      "text/plain": [
       "array([[1, 2, 3, 2, 4, 5, 1, 2, 3]])"
      ]
     },
     "execution_count": 33,
     "metadata": {},
     "output_type": "execute_result"
    }
   ],
   "source": [
    "array1 = np.array([[1, 2, 3], [2, 4, 5], [1, 2, 3]])\n",
    "array1=array1.reshape(1,9)\n",
    "array1\n",
    "## can control shape"
   ]
  },
  {
   "cell_type": "markdown",
   "id": "aa6f257a",
   "metadata": {},
   "source": [
    "# (c) Compare the following numpy arrays"
   ]
  },
  {
   "cell_type": "code",
   "execution_count": 36,
   "id": "d32ca1c5",
   "metadata": {},
   "outputs": [
    {
     "data": {
      "text/plain": [
       "array([[ True,  True],\n",
       "       [ True,  True]])"
      ]
     },
     "execution_count": 36,
     "metadata": {},
     "output_type": "execute_result"
    }
   ],
   "source": [
    "arr1 = np.array([[1, 2], [3, 4]]) \n",
    "arr2 = np.array([[1, 2], [3, 4]]) \n",
    "arr1 == arr2"
   ]
  },
  {
   "cell_type": "markdown",
   "id": "706d80fe",
   "metadata": {},
   "source": [
    "# (d) Find the most frequent value and their indice(s) in the following arrays: \n"
   ]
  },
  {
   "cell_type": "code",
   "execution_count": null,
   "id": "2428e731",
   "metadata": {},
   "outputs": [
    {
     "data": {
      "text/plain": [
       "np.int64(5)"
      ]
     },
     "execution_count": 48,
     "metadata": {},
     "output_type": "execute_result"
    }
   ],
   "source": [
    "\n",
    "x = np.array([1,2,3,4,5,1,2,1,1,1])\n",
    "unique,counts =np.unique(x, return_counts=True)\n",
    "np."
   ]
  }
 ],
 "metadata": {
  "kernelspec": {
   "display_name": ".venv (3.13.1)",
   "language": "python",
   "name": "python3"
  },
  "language_info": {
   "codemirror_mode": {
    "name": "ipython",
    "version": 3
   },
   "file_extension": ".py",
   "mimetype": "text/x-python",
   "name": "python",
   "nbconvert_exporter": "python",
   "pygments_lexer": "ipython3",
   "version": "3.13.1"
  }
 },
 "nbformat": 4,
 "nbformat_minor": 5
}
