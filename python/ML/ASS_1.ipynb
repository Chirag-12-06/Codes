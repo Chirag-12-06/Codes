{
 "cells": [
  {
   "cell_type": "markdown",
   "id": "a7978faa",
   "metadata": {},
   "source": [
    "## Q1: Questions on Basic NumPy Array \n"
   ]
  },
  {
   "cell_type": "code",
   "execution_count": null,
   "id": "86fb95f5",
   "metadata": {},
   "outputs": [],
   "source": [
    "pip install numpy"
   ]
  },
  {
   "cell_type": "code",
   "execution_count": null,
   "id": "f3c60e56",
   "metadata": {},
   "outputs": [],
   "source": [
    "3 + 2"
   ]
  },
  {
   "cell_type": "markdown",
   "id": "1a9f000b",
   "metadata": {},
   "source": [
    "## (a) Reverse the NumPy array: arr = np.array([1, 2, 3, 6, 4, 5]) "
   ]
  }
 ],
 "metadata": {
  "kernelspec": {
   "display_name": "Python (CleanEnv)",
   "language": "python",
   "name": "cleanenv"
  },
  "language_info": {
   "name": "python",
   "version": "3.12.7"
  }
 },
 "nbformat": 4,
 "nbformat_minor": 5
}
