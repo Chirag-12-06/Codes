{
 "cells": [
  {
   "cell_type": "code",
   "execution_count": 1,
   "metadata": {},
   "outputs": [
    {
     "name": "stdout",
     "output_type": "stream",
     "text": [
      "For Maths\n",
      "Highest 98\n",
      "Lowest 69\n",
      "Average 81.9\n",
      "\n",
      "For Science\n",
      "Highest 98\n",
      "Lowest 50\n",
      "Average 77.7\n",
      "\n",
      "For English\n",
      "Highest 90\n",
      "Lowest 70\n",
      "Average 80.1\n",
      "\n",
      "For IT\n",
      "Highest 98\n",
      "Lowest 70\n",
      "Average 86.1\n",
      "\n",
      "Overall Statistics\n",
      "Highest 98\n",
      "Lowest 50\n",
      "Average 81.45\n"
     ]
    }
   ],
   "source": [
    "# A class with 10 students wants to produce some information from the results of the four standard tests in Maths, Science, English and IT. \n",
    "# Each test is out of 100 marks. \n",
    "# The information output should be the highest, lowest and average mark for each test and the highest, lowest and average mark overall.\n",
    "import statistics\n",
    "marks={\n",
    "    'Maths': [75, 98, 92, 69, 70, 77, 81, 95, 73, 89],\n",
    "    'Science': [70, 91, 89, 50, 83, 79, 98, 93, 50, 74],\n",
    "    'English': [80, 87, 78, 70, 82, 90, 76, 84, 79, 75],\n",
    "    'IT': [90, 70, 87, 83, 92, 98, 89, 94, 80, 78]\n",
    "}\n",
    "\n",
    "high=[]\n",
    "low=[]\n",
    "avg=[]\n",
    "\n",
    "for i in marks:\n",
    "    print(\"For\",i)\n",
    "    h=max(marks[i])\n",
    "    print(\"Highest\" ,h)\n",
    "    high.append(h)\n",
    "    l=min(marks[i])\n",
    "    print(\"Lowest\" ,l)\n",
    "    low.append(l)\n",
    "    a=statistics.mean(marks[i])\n",
    "    print(\"Average\" ,a)\n",
    "    avg.append(a)\n",
    "    print()\n",
    "\n",
    "\n",
    "print(\"Overall Statistics\")\n",
    "print(\"Highest\" ,max(high))\n",
    "print(\"Lowest\" ,min(low))\n",
    "print(\"Average\",statistics.mean(avg))"
   ]
  },
  {
   "cell_type": "code",
   "execution_count": 2,
   "metadata": {},
   "outputs": [
    {
     "name": "stdout",
     "output_type": "stream",
     "text": [
      "Your Gross Salary: 26541.75\n"
     ]
    }
   ],
   "source": [
    "# 2 Write a Program to input basic salary of an employee and calculate its Gross salary according to following: \n",
    "# Basic Salary <= 10000 : HRA = 20%, DA = 80% Basic Salary <= 20000 \n",
    "# : HRA = 25%, DA = 90% Basic Salary > 20000 : HRA = 30%, DA = 95%. \n",
    "\n",
    "sal = int(input(\"Enter your Salary: \"))\n",
    "\n",
    "if(sal<=10000):\n",
    "    hra=0.2\n",
    "    da=0.8\n",
    "elif(sal<=20000):\n",
    "    hra=0.25\n",
    "    da=0.9\n",
    "else:\n",
    "    hra=0.3\n",
    "    da=0.95\n",
    "print(\"Your Gross Salary:\",sal*(1+hra+da))"
   ]
  },
  {
   "cell_type": "code",
   "execution_count": 3,
   "metadata": {},
   "outputs": [
    {
     "name": "stdout",
     "output_type": "stream",
     "text": [
      "Your Password is valid\n"
     ]
    }
   ],
   "source": [
    "# 3 Write a Python program to check the validity of password input by users.Validation:  \n",
    "# At least 1 letter between [a-z] and 1 letter between [A-Z].  \n",
    "# At least 1 number between [0-9].  \n",
    "# At least 1 character from [$#@].  \n",
    "# Minimum length 6 characters.  \n",
    "# Maximum length 16 characters.\n",
    "        \n",
    "\n",
    "import re\n",
    "\n",
    "password = input(\"Enter Your password: \")\n",
    "if (6 <= len(password) <= 16 and\n",
    "    re.search(r'[a-z]', password) and\n",
    "    re.search(r'[A-Z]', password) and\n",
    "    re.search(r'[0-9]', password) and\n",
    "    re.search(r'[$#@]', password)):\n",
    "    print(\"Your Password is valid\")\n",
    "else:\n",
    "    print(\"Your Password is invalid\")\n"
   ]
  },
  {
   "cell_type": "code",
   "execution_count": 4,
   "metadata": {},
   "outputs": [
    {
     "name": "stdout",
     "output_type": "stream",
     "text": [
      "[10, 20, 30, 40, 50, 60, 70, 80, 200, 300]\n",
      "[20, 40, 50, 60, 70, 80, 200, 300]\n",
      "[20, 40, 50, 60, 70, 80, 200, 300]\n",
      "[300, 200, 80, 70, 60, 50, 40, 20]\n"
     ]
    }
   ],
   "source": [
    "# 4 Create a List L that is defined as= [10, 20, 30, 40, 50, 60, 70, 80]. \n",
    "A=[10, 20, 30, 40, 50, 60, 70, 80]\n",
    "\n",
    "\n",
    "# (i) WAP to add 200 and 300 to L.\n",
    "A.append(200)\n",
    "A.append(300)\n",
    "print(A)\n",
    "\n",
    "\n",
    "# (ii) WAP to remove 10 and 30 from L.\n",
    "A.remove(10)\n",
    "A.remove(30)\n",
    "print(A)\n",
    "\n",
    "\n",
    "# (iii) WAP to sort L in ascending order.\n",
    "A.sort()\n",
    "print(A)\n",
    "\n",
    "\n",
    "# (iv) WAP to sort L in descending order.\n",
    "A.sort(reverse=True)\n",
    "print(A)"
   ]
  },
  {
   "cell_type": "code",
   "execution_count": 5,
   "metadata": {},
   "outputs": [
    {
     "name": "stdout",
     "output_type": "stream",
     "text": [
      "{1: 'One', 2: 'Two', 3: 'Three', 4: 'Four', 5: 'Five', 6: 'Six'}\n",
      "{1: 'One', 3: 'Three', 4: 'Four', 5: 'Five', 6: 'Six'}\n",
      "Present\n",
      "5\n",
      "OneThreeFourFiveSix\n"
     ]
    }
   ],
   "source": [
    "# 5 D is a dictionary defined as D= {1:”One”, 2:”Two”, 3:”Three”, 4: “Four”, 5:”Five”}. \n",
    "D={\n",
    "    1:\"One\",\n",
    "    2:\"Two\",\n",
    "    3:\"Three\",\n",
    "    4:\"Four\",\n",
    "    5:\"Five\"\n",
    "    }\n",
    "\n",
    "\n",
    "# (i) WAP to add new entry in D; key=6 and value is “Six” \n",
    "D[6]=\"Six\"\n",
    "print(D)\n",
    "\n",
    "\n",
    "# (ii) WAP to remove key=2.\n",
    "del(D[2])\n",
    "print(D)\n",
    "\n",
    "\n",
    "# (iii) WAP to check if 6 key is present in D.\n",
    "if(6 in D):\n",
    "    print(\"Present\")\n",
    "else:\n",
    "    print(\"Not Present\")\n",
    "\n",
    "\n",
    "# (iv) WAP to count the number of elements present in D.\n",
    "print(len(D))\n",
    "\n",
    "\n",
    "# (v) WAP to add all the values present D.\n",
    "print(\"\".join(D.values()))"
   ]
  },
  {
   "cell_type": "code",
   "execution_count": 6,
   "metadata": {},
   "outputs": [
    {
     "name": "stdout",
     "output_type": "stream",
     "text": [
      "For Odd\n",
      "Nos: 51\n",
      "List: [695, 309, 573, 533, 333, 577, 441, 785, 305, 687, 683, 121, 455, 687, 269, 841, 231, 119, 519, 455, 881, 501, 421, 675, 595, 499, 565, 165, 449, 115, 745, 773, 517, 371, 197, 759, 677, 219, 337, 761, 401, 375, 321, 243, 863, 571, 611, 397, 491, 457, 101] \n",
      "\n",
      "For Even\n",
      "Nos: 49\n",
      "List: [486, 376, 232, 274, 680, 514, 312, 286, 426, 136, 710, 310, 398, 826, 430, 152, 142, 548, 674, 828, 700, 316, 138, 584, 234, 450, 138, 198, 138, 266, 866, 892, 214, 790, 418, 850, 470, 634, 242, 192, 706, 598, 250, 870, 280, 322, 458, 758, 350] \n",
      "\n",
      "For Prime\n",
      "Nos: 19\n",
      "List: [577, 683, 269, 881, 421, 499, 449, 773, 197, 677, 337, 761, 401, 863, 571, 397, 491, 457, 101]\n"
     ]
    }
   ],
   "source": [
    "# 6 WAP to create a list of 100 random numbers between 100 and 900. Count and print the:  \n",
    "# (i) All odd numbers \n",
    "# (ii) All even numbers \n",
    "# (iii) All prime numbers\n",
    "\n",
    "def is_prime(n):\n",
    "    if(n==1):\n",
    "        return False\n",
    "    for i in range(2,n-1,1):\n",
    "        if(not (n%i)):\n",
    "            return False\n",
    "    return True\n",
    "\n",
    "import random\n",
    "L=[random.randint(100,900) for i in range(100)]\n",
    "\n",
    "even=[]\n",
    "odd=[]\n",
    "primes=[]\n",
    "\n",
    "for i in L:\n",
    "    if is_prime(i):\n",
    "        primes.append(i)\n",
    "    if i%2:\n",
    "        odd.append(i)\n",
    "    else:\n",
    "        even.append(i)\n",
    "\n",
    "print(\"For Odd\")\n",
    "print(\"Nos:\",len(odd))\n",
    "print(\"List:\",odd,\"\\n\")\n",
    "\n",
    "print(\"For Even\")\n",
    "print(\"Nos:\",len(even))\n",
    "print(\"List:\",even,\"\\n\")\n",
    "\n",
    "print(\"For Prime\")\n",
    "print(\"Nos:\",len(primes))\n",
    "print(\"List:\",primes)\n",
    "\n"
   ]
  },
  {
   "cell_type": "code",
   "execution_count": 7,
   "metadata": {},
   "outputs": [
    {
     "name": "stdout",
     "output_type": "stream",
     "text": [
      "Compound Intrest: 60970.0\n"
     ]
    }
   ],
   "source": [
    "# i) Write a function which takes principal amount, interest rate and time. This function returns compound interest.\n",
    "\n",
    "def Compound(p,r,t):\n",
    "    amt = p*((1+r)**t)\n",
    "    return amt-p\n",
    "\n",
    "def main():\n",
    "    p= float(input(\"Enter the Principal: \"))\n",
    "    r= float(input(\"Enter the Intrest Rate: \"))\n",
    "    t= int(input(\"Enter the Time: \"))\n",
    "\n",
    "    print(\"Compound Intrest:\",Compound(p,r,t))\n",
    "\n",
    "main()\n"
   ]
  },
  {
   "cell_type": "code",
   "execution_count": 8,
   "metadata": {},
   "outputs": [
    {
     "ename": "ModuleNotFoundError",
     "evalue": "No module named 'Compound'",
     "output_type": "error",
     "traceback": [
      "\u001b[1;31m---------------------------------------------------------------------------\u001b[0m",
      "\u001b[1;31mModuleNotFoundError\u001b[0m                       Traceback (most recent call last)",
      "Cell \u001b[1;32mIn[8], line 2\u001b[0m\n\u001b[0;32m      1\u001b[0m \u001b[38;5;66;03m# (ii) Save this function (as a module) in a python file and call it in another python file.\u001b[39;00m\n\u001b[1;32m----> 2\u001b[0m \u001b[38;5;28;01mimport\u001b[39;00m\u001b[38;5;250m \u001b[39m\u001b[38;5;21;01mCompound\u001b[39;00m\n",
      "\u001b[1;31mModuleNotFoundError\u001b[0m: No module named 'Compound'"
     ]
    }
   ],
   "source": [
    "# (ii) Save this function (as a module) in a python file and call it in another python file.\n",
    "import Compound\n",
    "\n"
   ]
  },
  {
   "cell_type": "code",
   "execution_count": 9,
   "metadata": {},
   "outputs": [
    {
     "name": "stdout",
     "output_type": "stream",
     "text": [
      "Restaurant_name: dw\n",
      "Cuisine_type: ef\n",
      "dw is OPEN !!!!\n",
      "\n",
      "Hello, Priya Goel\n",
      "User_name: Priya Goel\n",
      "Mobile No: 34564527\n",
      "Email: de@g.com\n",
      "Gender: M \n",
      "\n",
      "Hello, Mike Tyson\n",
      "User_name: Mike Tyson\n",
      "Mobile No: 3876364527\n",
      "Email: op@gin.com\n",
      "Gender: F \n",
      "\n"
     ]
    }
   ],
   "source": [
    "# A) Make a class called Restaurant. The __init__() method for Restaurant should store two attributes: a restaurant_name and a cuisine_type.\n",
    "# Make a method called describe_restaurant() that prints these two pieces of information,\n",
    "# A method called open_restaurant() that prints a message indicating that the restaurant is open.\n",
    "# Make an instance called restaurant from your class. \n",
    "# Print the two attributes individually, and then call both methods. \n",
    "class Restaurant:\n",
    "    def __init__(self,res,cus):\n",
    "        self.restaurant_name=res\n",
    "        self.cuisine_type=cus\n",
    "\n",
    "    def describe_restaurant(self):\n",
    "        print(\"Restaurant_name:\",self.restaurant_name)\n",
    "        print(\"Cuisine_type:\",self.cuisine_type)\n",
    "\n",
    "    def open_restaurant(self):\n",
    "        print(self.restaurant_name,\"is OPEN !!!!\")\n",
    "\n",
    "\n",
    "\n",
    "restaurant=Restaurant(\"dw\",\"ef\")\n",
    "restaurant.describe_restaurant()     \n",
    "restaurant.open_restaurant()\n",
    "print()\n",
    "\n",
    "\n",
    "# B) Make a class called User. Create two attributes called first_name and last_name, and create several other attributes that are typically stored in a user profile. \n",
    "# Make a method called describe_user() that prints a summary of the user’s information. \n",
    "# Make another method called greet_user() that prints a personalized greeting to the user. \n",
    "# Create several instances representing different users, and call both method for each user.\n",
    "class User:\n",
    "    def __init__(self,fname,lname,no,email,gender):\n",
    "        self.first_name=fname\n",
    "        self.last_name=lname\n",
    "        self.no=no\n",
    "        self.email=email\n",
    "        self.gender=gender\n",
    "\n",
    "    def describe_User(self):\n",
    "        print(\"User_name:\",self.first_name,self.last_name)\n",
    "        print(\"Mobile No:\",self.no)\n",
    "        print(\"Email:\",self.email)\n",
    "        print(\"Gender:\",self.gender,\"\\n\")\n",
    "\n",
    "    def greet_user(self):\n",
    "        print(\"Hello,\",self.first_name,self.last_name)\n",
    "\n",
    "\n",
    "\n",
    "User1=User(\"Priya\",\"Goel\",34564527,\"de@g.com\",\"M\")\n",
    "User2=User(\"Mike\",\"Tyson\",3876364527,\"op@gin.com\",\"F\")\n",
    "\n",
    "User1.greet_user()\n",
    "User1.describe_User()\n",
    "\n",
    "User2.greet_user()\n",
    "User2.describe_User()\n"
   ]
  }
 ],
 "metadata": {
  "kernelspec": {
   "display_name": "Python 3",
   "language": "python",
   "name": "python3"
  },
  "language_info": {
   "codemirror_mode": {
    "name": "ipython",
    "version": 3
   },
   "file_extension": ".py",
   "mimetype": "text/x-python",
   "name": "python",
   "nbconvert_exporter": "python",
   "pygments_lexer": "ipython3",
   "version": "3.13.1"
  }
 },
 "nbformat": 4,
 "nbformat_minor": 2
}
